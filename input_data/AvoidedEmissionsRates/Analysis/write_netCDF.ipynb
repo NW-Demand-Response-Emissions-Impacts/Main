{
 "cells": [
  {
   "cell_type": "code",
   "execution_count": 1,
   "metadata": {},
   "outputs": [],
   "source": [
    "import pandas as pd\n",
    "import xarray as xr"
   ]
  },
  {
   "cell_type": "code",
   "execution_count": null,
   "metadata": {},
   "outputs": [],
   "source": [
    "df_baseline = pd.read_excel('../AvoidedEmissionsRateBaseline.xlsx',\n",
    "                            sheet_name = 'HourlyAvoidedEmissionsRate')\n",
    "df_ecr = pd.read_excel('../AvoidedEmissionsRateEarlyCoalRetirement.xlsx',\n",
    "                            sheet_name = 'HourlyAvoidedEmissionsRate')"
   ]
  },
  {
   "cell_type": "code",
   "execution_count": null,
   "metadata": {},
   "outputs": [],
   "source": [
    "df_bl_hourly = df_baseline[['Report_Hour','Emissions Rate Estimate']]\n",
    "df_ecr_hourly = df_ecr[['Report_Hour','Emissions Rate Estimate']]"
   ]
  },
  {
   "cell_type": "code",
   "execution_count": null,
   "metadata": {},
   "outputs": [],
   "source": [
    "df_bl_hourlymean = df_bl_hourly.groupby('Report_Hour').mean()\n",
    "df_ecr_hourlymean = df_ecr_hourly.groupby('Report_Hour').mean()"
   ]
  },
  {
   "cell_type": "code",
   "execution_count": null,
   "metadata": {},
   "outputs": [],
   "source": [
    "df_bl_hourlymean.insert(1,'ECR',df_ecr_hourlymean['Emissions Rate Estimate'],True)"
   ]
  },
  {
   "cell_type": "code",
   "execution_count": null,
   "metadata": {},
   "outputs": [],
   "source": [
    "df = df_bl_hourlymean\n",
    "df = df.rename(columns={\"Emissions Rate Estimate\": \"Baseline\"})"
   ]
  },
  {
   "cell_type": "code",
   "execution_count": null,
   "metadata": {},
   "outputs": [],
   "source": [
    "xr_data = xr.Dataset.from_dataframe(df)"
   ]
  },
  {
   "cell_type": "code",
   "execution_count": null,
   "metadata": {},
   "outputs": [],
   "source": [
    "xr_data.to_netcdf('../../../processed_data/data_bl_ecr.nc')"
   ]
  },
  {
   "cell_type": "code",
   "execution_count": null,
   "metadata": {},
   "outputs": [],
   "source": []
  }
 ],
 "metadata": {
  "kernelspec": {
   "display_name": "Python 3",
   "language": "python",
   "name": "python3"
  },
  "language_info": {
   "codemirror_mode": {
    "name": "ipython",
    "version": 3
   },
   "file_extension": ".py",
   "mimetype": "text/x-python",
   "name": "python",
   "nbconvert_exporter": "python",
   "pygments_lexer": "ipython3",
   "version": "3.8.5"
  }
 },
 "nbformat": 4,
 "nbformat_minor": 4
}
