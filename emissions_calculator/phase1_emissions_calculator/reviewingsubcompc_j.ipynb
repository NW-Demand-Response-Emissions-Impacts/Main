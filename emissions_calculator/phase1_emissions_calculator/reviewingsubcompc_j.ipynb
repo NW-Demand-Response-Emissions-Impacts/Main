{
 "cells": [
  {
   "cell_type": "code",
   "execution_count": 3,
   "id": "a589aeba",
   "metadata": {},
   "outputs": [],
   "source": [
    "from subcomp_c_calculate_emissions import shift_hours\n",
    "from subcomp_a_organize_data import create_dr_hours_df_dict\n",
    "\n",
    "from emissions_parameters import DIR_EMISSIONS_RATES, DIR_DR_POTENTIAL_HRS\n",
    "\n",
    "\n",
    "\n",
    "emissions_scenario_list = ['Baseline']  \n",
    "emissions_rates_files = [DIR_EMISSIONS_RATES+'AvoidedEmissionsRate' + x + '.xlsx' for x in emissions_scenario_list]\n",
    "EMISSIONS_YEAR = 2022 #year to show emissions rates for gen pub\n",
    "dr_name = ['oldbins','newbins']\n",
    "dr_hrs_files = [DIR_DR_POTENTIAL_HRS+'DRHours_' + x + '.xlsx' for x in dr_name]\n",
    "\n",
    "# For each plan in dr_name, list the DR potential file,\n",
    "# seasons with DR hours, and the subset of products to include\n",
    "# (or [0] to include all products).\n",
    "dr_potential_files = [DIR_DR_POTENTIAL_HRS+'DR RPM Inputs_071420.xlsx',DIR_DR_POTENTIAL_HRS+'DR RPM Inputs_021621_newaMWbins.xlsx']\n",
    "dr_seasons = [['Winter','Summer'],['Winter','Summer','Fall']]\n",
    "subset_products = [[0],['DVR','ResTOU']] \n",
    "dr_name = ['oldbins','newbins']\n",
    "#dr_hrs_files = ['DRHours_' + x + '.xlsx' for x in dr_name]\n",
    "dr_seasons = [['Winter','Summer'],['Winter','Summer','Fall']]\n",
    "\n",
    "dr_hours_df_dict_out = create_dr_hours_df_dict(dr_hrs_files, dr_name, dr_seasons)\n"
   ]
  },
  {
   "cell_type": "code",
   "execution_count": 32,
   "id": "70b2968e",
   "metadata": {},
   "outputs": [],
   "source": [
    "import pandas as pd\n",
    "pd.set_option('display.max_rows', None)\n",
    "dr_hours = dr_hours_df_dict_out['newbins_Fall']\n",
    "#dr_hours.head"
   ]
  },
  {
   "cell_type": "code",
   "execution_count": null,
   "id": "c4e54ce4",
   "metadata": {},
   "outputs": [],
   "source": [
    "dr_out = shift_hours(dr_hours['ResTOU_shift'])\n",
    "dr_out\n",
    "#dr_hours.tail()"
   ]
  },
  {
   "cell_type": "code",
   "execution_count": null,
   "id": "aac475f2",
   "metadata": {},
   "outputs": [],
   "source": [
    "dr_hours['ResTOU_shift']=dr_out\n",
    "dr_hours"
   ]
  },
  {
   "cell_type": "code",
   "execution_count": null,
   "id": "92e1abb1",
   "metadata": {},
   "outputs": [],
   "source": [
    "dr_hours = dr_hours_df_dict_out['oldbins_Winter']\n",
    "#dr_hours"
   ]
  },
  {
   "cell_type": "code",
   "execution_count": null,
   "id": "f168ae7e",
   "metadata": {},
   "outputs": [],
   "source": [
    "import pandas as pd\n",
    "pd.set_option('display.max_rows', None)"
   ]
  },
  {
   "cell_type": "code",
   "execution_count": 1,
   "id": "cac9a839",
   "metadata": {},
   "outputs": [],
   "source": [
    "from subcomp_a_organize_data import create_product_info_df_dict, subcomp_a_runall\n",
    "from subcomp_c_calculate_emissions import shift_hours, sort_bins\n",
    "\n",
    "\n",
    "from emissions_parameters import DIR_EMISSIONS_RATES, DIR_DR_POTENTIAL_HRS\n",
    "\n",
    "\n",
    "emissions_scenario_list = ['Baseline']  \n",
    "emissions_rates_files = [DIR_EMISSIONS_RATES+'AvoidedEmissionsRate' + x + '.xlsx' for x in emissions_scenario_list]\n",
    "EMISSIONS_YEAR = 2022 #year to show emissions rates for gen pub\n",
    "dr_name = ['oldbins','newbins']\n",
    "dr_hrs_files = [DIR_DR_POTENTIAL_HRS+'DRHours_' + x + '.xlsx' for x in dr_name]\n",
    "\n",
    "# For each plan in dr_name, list the DR potential file,\n",
    "# seasons with DR hours, and the subset of products to include\n",
    "# (or [0] to include all products).\n",
    "dr_potential_files = ['DR RPM Inputs_071420.xlsx','DR RPM Inputs_021621_newaMWbins.xlsx']\n",
    "dr_potential_files = [DIR_DR_POTENTIAL_HRS+ x for x in dr_potential_files]\n",
    "dr_seasons = [['Winter','Summer'],['Winter','Summer','Fall']]\n",
    "subset_products = [[0],['DVR','ResTOU']] \n",
    "#dr_product_dict = create_product_info_df_dict(dr_potential_files, dr_name)\n",
    "#dr_product_dict"
   ]
  },
  {
   "cell_type": "code",
   "execution_count": 34,
   "id": "9fd94f71",
   "metadata": {},
   "outputs": [
    {
     "ename": "IndexError",
     "evalue": "index 0 is out of bounds for axis 0 with size 0",
     "output_type": "error",
     "traceback": [
      "\u001b[0;31m---------------------------------------------------------------------------\u001b[0m",
      "\u001b[0;31mIndexError\u001b[0m                                Traceback (most recent call last)",
      "\u001b[0;32m/var/folders/77/7yfflvs902s95j6rlhb5yn9c0000gn/T/ipykernel_71849/2072420937.py\u001b[0m in \u001b[0;36m<module>\u001b[0;34m\u001b[0m\n\u001b[0;32m----> 1\u001b[0;31m \u001b[0mout\u001b[0m \u001b[0;34m=\u001b[0m \u001b[0msort_bins\u001b[0m\u001b[0;34m(\u001b[0m\u001b[0mdr_product_dict\u001b[0m\u001b[0;34m[\u001b[0m\u001b[0;34m'newbins'\u001b[0m\u001b[0;34m]\u001b[0m\u001b[0;34m,\u001b[0m \u001b[0mdr_hours\u001b[0m\u001b[0;34m)\u001b[0m\u001b[0;34m\u001b[0m\u001b[0;34m\u001b[0m\u001b[0m\n\u001b[0m",
      "\u001b[0;32m~/Documents/UW/Courses/CSE583/DR-Emissions-Project/Main/emissions_calculator/phase1_emissions_calculator/subcomp_c_calculate_emissions.py\u001b[0m in \u001b[0;36msort_bins\u001b[0;34m(dr_info, dr_names)\u001b[0m\n\u001b[1;32m    103\u001b[0m \u001b[0;34m\u001b[0m\u001b[0m\n\u001b[1;32m    104\u001b[0m     \u001b[0;32mfor\u001b[0m \u001b[0mdr_name\u001b[0m \u001b[0;32min\u001b[0m \u001b[0mdr_names\u001b[0m\u001b[0;34m:\u001b[0m\u001b[0;34m\u001b[0m\u001b[0;34m\u001b[0m\u001b[0m\n\u001b[0;32m--> 105\u001b[0;31m         \u001b[0mbin_name\u001b[0m \u001b[0;34m=\u001b[0m \u001b[0mdr_info\u001b[0m\u001b[0;34m.\u001b[0m\u001b[0mBin\u001b[0m\u001b[0;34m.\u001b[0m\u001b[0mloc\u001b[0m\u001b[0;34m[\u001b[0m\u001b[0mdr_info\u001b[0m\u001b[0;34m.\u001b[0m\u001b[0mProduct\u001b[0m \u001b[0;34m==\u001b[0m \u001b[0mdr_name\u001b[0m\u001b[0;34m]\u001b[0m\u001b[0;34m.\u001b[0m\u001b[0mvalues\u001b[0m\u001b[0;34m[\u001b[0m\u001b[0;36m0\u001b[0m\u001b[0;34m]\u001b[0m\u001b[0;34m\u001b[0m\u001b[0;34m\u001b[0m\u001b[0m\n\u001b[0m\u001b[1;32m    106\u001b[0m         \u001b[0;32mif\u001b[0m \u001b[0mbin_name\u001b[0m \u001b[0;32min\u001b[0m \u001b[0mlist\u001b[0m\u001b[0;34m(\u001b[0m\u001b[0mout_dict\u001b[0m\u001b[0;34m.\u001b[0m\u001b[0mkeys\u001b[0m\u001b[0;34m(\u001b[0m\u001b[0;34m)\u001b[0m\u001b[0;34m)\u001b[0m\u001b[0;34m:\u001b[0m\u001b[0;34m\u001b[0m\u001b[0;34m\u001b[0m\u001b[0m\n\u001b[1;32m    107\u001b[0m             \u001b[0mout_dict\u001b[0m\u001b[0;34m[\u001b[0m\u001b[0mbin_name\u001b[0m\u001b[0;34m]\u001b[0m \u001b[0;34m=\u001b[0m \u001b[0mout_dict\u001b[0m\u001b[0;34m[\u001b[0m\u001b[0mbin_name\u001b[0m\u001b[0;34m]\u001b[0m\u001b[0;34m+\u001b[0m\u001b[0;34m[\u001b[0m\u001b[0mdr_name\u001b[0m\u001b[0;34m]\u001b[0m\u001b[0;34m\u001b[0m\u001b[0;34m\u001b[0m\u001b[0m\n",
      "\u001b[0;31mIndexError\u001b[0m: index 0 is out of bounds for axis 0 with size 0"
     ]
    }
   ],
   "source": []
  },
  {
   "cell_type": "code",
   "execution_count": 12,
   "id": "f74c0cfc",
   "metadata": {},
   "outputs": [
    {
     "data": {
      "text/plain": [
       "['DVR', 'ResTOU_shift', 'ResTOU_shed']"
      ]
     },
     "execution_count": 12,
     "metadata": {},
     "output_type": "execute_result"
    }
   ],
   "source": [
    "dr_list = list(dr_hours.columns.values[3:])\n",
    "dr_list"
   ]
  },
  {
   "cell_type": "code",
   "execution_count": 35,
   "id": "edbcf499",
   "metadata": {},
   "outputs": [
    {
     "data": {
      "text/plain": [
       "{'Bin 1': ['DVR', 'ResTOU_shift', 'ResTOU_shed']}"
      ]
     },
     "execution_count": 35,
     "metadata": {},
     "output_type": "execute_result"
    }
   ],
   "source": [
    "pr_dict = dr_product_dict['newbins']\n",
    "out_dict = sort_bins(pr_dict,dr_list)\n",
    "out_dict"
   ]
  },
  {
   "cell_type": "code",
   "execution_count": null,
   "id": "5654cb0e",
   "metadata": {},
   "outputs": [],
   "source": [
    "out_dict"
   ]
  },
  {
   "cell_type": "code",
   "execution_count": null,
   "id": "bbee1d19",
   "metadata": {},
   "outputs": [],
   "source": [
    "dr_product_info_df_dict = dr_product_dict.copy()\n",
    "drname = 'newbins'\n",
    "newrow = dr_product_info_df_dict[drname][dr_product_info_df_dict[drname]['Product'] == 'ResTOU'].copy()\n",
    "newrow = newrow.replace('ResTOU','ResTOU_shed')\n",
    "newrow = newrow.replace('Shift','Shed')\n",
    "dr_product_info_df_dict[drname] = dr_product_info_df_dict[drname].replace('ResTOU','ResTOU_shift')\n",
    "dr_product_info_df_dict[drname] = pd.concat([dr_product_info_df_dict[drname], newrow]).reset_index(drop=True)\n",
    "dr_product_info_df_dict[drname]"
   ]
  },
  {
   "cell_type": "code",
   "execution_count": null,
   "id": "8ea0ed37",
   "metadata": {},
   "outputs": [],
   "source": [
    "from subcomp_a_organize_data import create_dr_potential_df_dict\n",
    "dr_potential_files = ['DR RPM Inputs_071420.xlsx','DR RPM Inputs_021621_newaMWbins.xlsx']\n",
    "dr_potential_df_dict = create_dr_potential_df_dict(dr_potential_files, dr_name, dr_seasons, [[0],['DVR','ResTOU']])\n",
    "drname = 'newbins'\n",
    "for season in dr_seasons[1]:\n",
    "    dict_key = drname + '_' + season\n",
    "    print(dr_potential_df_dict[dict_key])"
   ]
  },
  {
   "cell_type": "code",
   "execution_count": null,
   "id": "4ddaa582",
   "metadata": {},
   "outputs": [],
   "source": [
    "import numpy as np\n",
    "ys = 2022\n",
    "ye = 2044\n",
    "years = np.arange(ys,ye+1)\n",
    "years"
   ]
  },
  {
   "cell_type": "code",
   "execution_count": null,
   "id": "cc3cb4f6",
   "metadata": {},
   "outputs": [],
   "source": [
    "    seasons = [['Winter','Summer'],['Winter','Summer','Fall']]\n",
    "seasons[0]"
   ]
  },
  {
   "cell_type": "code",
   "execution_count": 1,
   "id": "865b29f4",
   "metadata": {},
   "outputs": [],
   "source": [
    "from subcomp_a_organize_data import subcomp_a_runall\n",
    "emissions_scenario_list = ['Baseline']  \n",
    "emissions_rates_files = ['AvoidedEmissionsRate' + x + '.xlsx' for x in emissions_scenario_list]\n",
    "EMISSIONS_YEAR = 2022 #year to show emissions rates for gen pub\n",
    "dr_name = ['oldbins','newbins']\n",
    "dr_hrs_files = ['DRHours_' + x + '.xlsx' for x in dr_name]\n",
    "\n",
    "# For each plan in dr_name, list the DR potential file,\n",
    "# seasons with DR hours, and the subset of products to include\n",
    "# (or [0] to include all products).\n",
    "dr_potential_files = ['DR RPM Inputs_071420.xlsx','DR RPM Inputs_021621_newaMWbins.xlsx']\n",
    "dr_seasons = [['Winter','Summer'],['Winter','Summer','Fall']]\n",
    "subset_products = [[0],['DVR','ResTOU']] "
   ]
  },
  {
   "cell_type": "code",
   "execution_count": 4,
   "id": "e4a4e1f3",
   "metadata": {},
   "outputs": [],
   "source": [
    "emissions_rates_df_out, dr_hours_df_dict_out, \\\n",
    "dr_potential_df_dict_out, dr_product_info_df_dict_out = \\\n",
    "        subcomp_a_runall(emissions_rates_files, emissions_scenario_list, \\\n",
    "                        dr_hrs_files, dr_name, dr_seasons, dr_potential_files, subset_products)"
   ]
  },
  {
   "cell_type": "code",
   "execution_count": 5,
   "id": "a08cca01",
   "metadata": {},
   "outputs": [],
   "source": [
    "%reload_ext autoreload\n",
    "%autoreload 2"
   ]
  },
  {
   "cell_type": "code",
   "execution_count": 6,
   "id": "7d71141a",
   "metadata": {},
   "outputs": [],
   "source": [
    "from subcomp_c_calculate_emissions import calc_yearly_avoided_emissions, make_barchart_df"
   ]
  },
  {
   "cell_type": "code",
   "execution_count": 8,
   "id": "7de0e1c0",
   "metadata": {},
   "outputs": [],
   "source": [
    "emissions_impacts_dict = calc_yearly_avoided_emissions(emissions_rates_df_out, dr_hours_df_dict_out, \\\n",
    "    dr_potential_df_dict_out, dr_product_info_df_dict_out, dr_name, dr_seasons)"
   ]
  },
  {
   "cell_type": "code",
   "execution_count": 7,
   "id": "15323e3d",
   "metadata": {},
   "outputs": [
    {
     "data": {
      "text/plain": [
       "{'oldbins_Winter':       hourID  Month  Day  NRCurtailCom  NRCurtailInd  DVR  IndRTP  ResCPP  \\\n",
       " 0          1      1    1             0             0    0       0       0   \n",
       " 1          2      1    1             0             0    0       0       0   \n",
       " 2          3      1    1             0             0    0       0       0   \n",
       " 3          4      1    1             0             0    0       0       0   \n",
       " 4          5      1    1             0             0    0       0       0   \n",
       " ...      ...    ...  ...           ...           ...  ...     ...     ...   \n",
       " 8755      20     12   31             0             0    0       0       0   \n",
       " 8756      21     12   31             0             0    0       0       0   \n",
       " 8757      22     12   31             0             0    0       0       0   \n",
       " 8758      23     12   31             0             0    0       0       0   \n",
       " 8759      24     12   31             0             0    0       0       0   \n",
       " \n",
       "       ResTOU  NRHeatSwchMed  ...  ComCPP  IndCPP  NRTstatSm  ResBYOT  \\\n",
       " 0          0              0  ...       0       0          0        0   \n",
       " 1          0              0  ...       0       0          0        0   \n",
       " 2          0              0  ...       0       0          0        0   \n",
       " 3          0              0  ...       0       0          0        0   \n",
       " 4          0              0  ...       0       0          0        0   \n",
       " ...      ...            ...  ...     ...     ...        ...      ...   \n",
       " 8755       0              0  ...       0       0          0        0   \n",
       " 8756       0              0  ...       0       0          0        0   \n",
       " 8757       0              0  ...       0       0          0        0   \n",
       " 8758       0              0  ...       0       0          0        0   \n",
       " 8759       0              0  ...       0       0          0        0   \n",
       " \n",
       "       ResHeatSwitch  ResERWHDLCSwch  ResERWHDLCGrd  ResEVSEDLCSwch  \\\n",
       " 0                 0               0              0               0   \n",
       " 1                 0               0              0               0   \n",
       " 2                 0               0              0               0   \n",
       " 3                 0               0              0               0   \n",
       " 4                 0               0              0               0   \n",
       " ...             ...             ...            ...             ...   \n",
       " 8755              0               0              0               0   \n",
       " 8756              0               0              0               0   \n",
       " 8757              0               0              0               0   \n",
       " 8758              0               0              0               0   \n",
       " 8759              0               0              0               0   \n",
       " \n",
       "       ResHPWHDLCSwch  ResHPWHDLCGrd  \n",
       " 0                  0              0  \n",
       " 1                  0              0  \n",
       " 2                  0              0  \n",
       " 3                  0              0  \n",
       " 4                  0              0  \n",
       " ...              ...            ...  \n",
       " 8755               0              0  \n",
       " 8756               0              0  \n",
       " 8757               0              0  \n",
       " 8758               0              0  \n",
       " 8759               0              0  \n",
       " \n",
       " [8760 rows x 21 columns],\n",
       " 'oldbins_Summer':       hourID  Month  Day  NRCurtailCom  NRCurtailInd  NRIrrLg  NRIrrSmMed  \\\n",
       " 0          1      1    1             0             0        0           0   \n",
       " 1          2      1    1             0             0        0           0   \n",
       " 2          3      1    1             0             0        0           0   \n",
       " 3          4      1    1             0             0        0           0   \n",
       " 4          5      1    1             0             0        0           0   \n",
       " ...      ...    ...  ...           ...           ...      ...         ...   \n",
       " 8755      20     12   31             0             0        0           0   \n",
       " 8756      21     12   31             0             0        0           0   \n",
       " 8757      22     12   31             0             0        0           0   \n",
       " 8758      23     12   31             0             0        0           0   \n",
       " 8759      24     12   31             0             0        0           0   \n",
       " \n",
       "       DVR  IndRTP  ResCPP  ...  ComCPP  IndCPP  NRTstatSm  ResBYOT  ResACSwch  \\\n",
       " 0       0       0       0  ...       0       0          0        0          0   \n",
       " 1       0       0       0  ...       0       0          0        0          0   \n",
       " 2       0       0       0  ...       0       0          0        0          0   \n",
       " 3       0       0       0  ...       0       0          0        0          0   \n",
       " 4       0       0       0  ...       0       0          0        0          0   \n",
       " ...   ...     ...     ...  ...     ...     ...        ...      ...        ...   \n",
       " 8755    0       0       0  ...       0       0          0        0          0   \n",
       " 8756    0       0       0  ...       0       0          0        0          0   \n",
       " 8757    0       0       0  ...       0       0          0        0          0   \n",
       " 8758    0       0       0  ...       0       0          0        0          0   \n",
       " 8759    0       0       0  ...       0       0          0        0          0   \n",
       " \n",
       "       ResERWHDLCSwch  ResERWHDLCGrd  ResEVSEDLCSwch  ResHPWHDLCSwch  \\\n",
       " 0                  0              0               0               0   \n",
       " 1                  0              0               0               0   \n",
       " 2                  0              0               0               0   \n",
       " 3                  0              0               0               0   \n",
       " 4                  0              0               0               0   \n",
       " ...              ...            ...             ...             ...   \n",
       " 8755               0              0               0               0   \n",
       " 8756               0              0               0               0   \n",
       " 8757               0              0               0               0   \n",
       " 8758               0              0               0               0   \n",
       " 8759               0              0               0               0   \n",
       " \n",
       "       ResHPWHDLCGrd  \n",
       " 0                 0  \n",
       " 1                 0  \n",
       " 2                 0  \n",
       " 3                 0  \n",
       " 4                 0  \n",
       " ...             ...  \n",
       " 8755              0  \n",
       " 8756              0  \n",
       " 8757              0  \n",
       " 8758              0  \n",
       " 8759              0  \n",
       " \n",
       " [8760 rows x 23 columns],\n",
       " 'newbins_Winter':       hourID  Month  Day  DVR  ResTOU_shift  ResTOU_shed\n",
       " 0          1      1    1    0             0            0\n",
       " 1          2      1    1    0             0            0\n",
       " 2          3      1    1    0             0            0\n",
       " 3          4      1    1    0             0            0\n",
       " 4          5      1    1    0             0            0\n",
       " ...      ...    ...  ...  ...           ...          ...\n",
       " 8755      20     12   31    0             0            0\n",
       " 8756      21     12   31    0             0            0\n",
       " 8757      22     12   31    0             0            0\n",
       " 8758      23     12   31    0             0            0\n",
       " 8759      24     12   31    0             0            0\n",
       " \n",
       " [8760 rows x 6 columns],\n",
       " 'newbins_Summer':       hourID  Month  Day  DVR  ResTOU_shift  ResTOU_shed\n",
       " 0          1      1    1    0             0            0\n",
       " 1          2      1    1    0             0            0\n",
       " 2          3      1    1    0             0            0\n",
       " 3          4      1    1    0             0            0\n",
       " 4          5      1    1    0             0            0\n",
       " ...      ...    ...  ...  ...           ...          ...\n",
       " 8755      20     12   31    0             0            0\n",
       " 8756      21     12   31    0             0            0\n",
       " 8757      22     12   31    0             0            0\n",
       " 8758      23     12   31    0             0            0\n",
       " 8759      24     12   31    0             0            0\n",
       " \n",
       " [8760 rows x 6 columns],\n",
       " 'newbins_Fall':       hourID  Month  Day  DVR  ResTOU_shift  ResTOU_shed\n",
       " 0          1      1    1    0             0            0\n",
       " 1          2      1    1    0             0            0\n",
       " 2          3      1    1    0             0            0\n",
       " 3          4      1    1    0             0            0\n",
       " 4          5      1    1    0             0            0\n",
       " ...      ...    ...  ...  ...           ...          ...\n",
       " 8755      20     12   31    0             0            0\n",
       " 8756      21     12   31    0             0            0\n",
       " 8757      22     12   31    0             0            0\n",
       " 8758      23     12   31    0             0            0\n",
       " 8759      24     12   31    0             0            0\n",
       " \n",
       " [8760 rows x 6 columns]}"
      ]
     },
     "execution_count": 7,
     "metadata": {},
     "output_type": "execute_result"
    }
   ],
   "source": [
    "dr_hours_df_dict_out\n",
    "#emissions_rates_df_out"
   ]
  },
  {
   "cell_type": "code",
   "execution_count": null,
   "id": "a04943f2",
   "metadata": {},
   "outputs": [],
   "source": [
    "importlib.reload(subcomp_c_calculate_emissions)"
   ]
  },
  {
   "cell_type": "code",
   "execution_count": null,
   "id": "7fadbb48",
   "metadata": {},
   "outputs": [],
   "source": [
    "df = pd.DataFrame(data = [[1, 2, 3, 4, 5],[]], columns = ['a', 'b', 'c', 'd', 'e'], index=['Winter', 'Summer'])\n",
    "print(df)\n",
    "df.loc['Summer', ['a', 'b', 'c', 'd', 'e']]=[2, 3, 4, 5, 6]\n",
    "print(df)"
   ]
  },
  {
   "cell_type": "code",
   "execution_count": null,
   "id": "64ff0d57",
   "metadata": {},
   "outputs": [],
   "source": [
    "out_df, newbins_df= make_barchart_df(emissions_impacts_dict)\n",
    "newbins_df"
   ]
  },
  {
   "cell_type": "code",
   "execution_count": null,
   "id": "c63ffb37",
   "metadata": {},
   "outputs": [],
   "source": [
    "from subcomp_d_output_data import output_emissions_impacts\n",
    "\n",
    "output_emissions_impacts(emissions_impacts_dict, out_df, newbins_df)\n"
   ]
  },
  {
   "cell_type": "code",
   "execution_count": null,
   "id": "b0f29733",
   "metadata": {},
   "outputs": [],
   "source": [
    "df = old_dict['Bin_Hello']"
   ]
  },
  {
   "cell_type": "code",
   "execution_count": null,
   "id": "b3c57cf4",
   "metadata": {},
   "outputs": [],
   "source": [
    "sum_dict['oldbins']['Bin_1'].sum(axis=1)"
   ]
  },
  {
   "cell_type": "code",
   "execution_count": null,
   "id": "c6e8255d",
   "metadata": {},
   "outputs": [],
   "source": [
    "import pandas as pd\n",
    "df = pd.DataFrame(data=[[1, 2, 3]], columns = ['a', 'b', 'c'])\n",
    "df"
   ]
  },
  {
   "cell_type": "code",
   "execution_count": null,
   "id": "58dad353",
   "metadata": {},
   "outputs": [],
   "source": [
    "df.loc[0, ['a', 'b']]"
   ]
  },
  {
   "cell_type": "code",
   "execution_count": null,
   "id": "f983d640",
   "metadata": {},
   "outputs": [],
   "source": [
    "5%2!=0"
   ]
  },
  {
   "cell_type": "code",
   "execution_count": 9,
   "id": "d8ea230f",
   "metadata": {},
   "outputs": [
    {
     "name": "stdout",
     "output_type": "stream",
     "text": [
      "oldbins\n",
      "newbins\n"
     ]
    }
   ],
   "source": [
    "bins = ['oldbins','newbins']\n",
    "for ind, binning in enumerate(bins):\n",
    "    print(binning)"
   ]
  },
  {
   "cell_type": "code",
   "execution_count": 10,
   "id": "394cd5a2",
   "metadata": {},
   "outputs": [],
   "source": [
    "blah = [True, False, True]"
   ]
  },
  {
   "cell_type": "code",
   "execution_count": 11,
   "id": "2f0e94b9",
   "metadata": {},
   "outputs": [
    {
     "data": {
      "text/plain": [
       "False"
      ]
     },
     "execution_count": 11,
     "metadata": {},
     "output_type": "execute_result"
    }
   ],
   "source": [
    "blah==True"
   ]
  },
  {
   "cell_type": "code",
   "execution_count": null,
   "id": "e0cdb283",
   "metadata": {},
   "outputs": [],
   "source": []
  }
 ],
 "metadata": {
  "kernelspec": {
   "display_name": "Python 3 (ipykernel)",
   "language": "python",
   "name": "python3"
  },
  "language_info": {
   "codemirror_mode": {
    "name": "ipython",
    "version": 3
   },
   "file_extension": ".py",
   "mimetype": "text/x-python",
   "name": "python",
   "nbconvert_exporter": "python",
   "pygments_lexer": "ipython3",
   "version": "3.9.5"
  }
 },
 "nbformat": 4,
 "nbformat_minor": 5
}
