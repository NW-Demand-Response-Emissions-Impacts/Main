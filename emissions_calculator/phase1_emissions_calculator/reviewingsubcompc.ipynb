{
 "cells": [
  {
   "cell_type": "code",
   "execution_count": 1,
   "id": "a589aeba",
   "metadata": {},
   "outputs": [],
   "source": [
    "from subcomp_c_calculate_emissions import shift_hours\n",
    "from subcomp_a_organize_data import create_dr_hours_df_dict\n",
    "\n",
    "dr_name = ['oldbins','newbins']\n",
    "dr_hrs_files = ['DRHours_' + x + '.xlsx' for x in dr_name]\n",
    "dr_seasons = [['Winter','Summer'],['Winter','Summer','Fall']]\n",
    "\n",
    "dr_hours_df_dict_out = create_dr_hours_df_dict(dr_hrs_files, dr_name, dr_seasons)"
   ]
  },
  {
   "cell_type": "code",
   "execution_count": 2,
   "id": "70b2968e",
   "metadata": {},
   "outputs": [],
   "source": [
    "import pandas as pd\n",
    "pd.set_option('display.max_rows', None)\n",
    "dr_hours = dr_hours_df_dict_out['newbins_Summer']\n",
    "#dr_hours"
   ]
  },
  {
   "cell_type": "code",
   "execution_count": 3,
   "id": "c4e54ce4",
   "metadata": {},
   "outputs": [
    {
     "name": "stdout",
     "output_type": "stream",
     "text": [
      "Int64Index([4361, 4362, 4363, 4364, 4385, 4386, 4387, 4388, 4409, 4410,\n",
      "            ...\n",
      "            6427, 6428, 6449, 6450, 6451, 6452, 6473, 6474, 6475, 6476],\n",
      "           dtype='int64', length=288)\n",
      "4\n",
      "1\n",
      "2\n"
     ]
    }
   ],
   "source": [
    "dr_out = shift_hours(dr_hours['ResTOU_shift'])\n",
    "#dr_hours.tail()"
   ]
  },
  {
   "cell_type": "code",
   "execution_count": 5,
   "id": "aac475f2",
   "metadata": {},
   "outputs": [],
   "source": [
    "dr_hours['ResTOU_shift']=dr_out\n",
    "#dr_hours"
   ]
  },
  {
   "cell_type": "code",
   "execution_count": 6,
   "id": "92e1abb1",
   "metadata": {},
   "outputs": [],
   "source": [
    "dr_hours = dr_hours_df_dict_out['oldbins_Winter']\n",
    "#dr_hours"
   ]
  },
  {
   "cell_type": "code",
   "execution_count": 4,
   "id": "f168ae7e",
   "metadata": {},
   "outputs": [],
   "source": [
    "import pandas as pd\n",
    "pd.set_option('display.max_rows', None)"
   ]
  },
  {
   "cell_type": "code",
   "execution_count": 8,
   "id": "cac9a839",
   "metadata": {},
   "outputs": [],
   "source": [
    "from subcomp_c_calculate_emissions import sort_bins\n",
    "from subcomp_a_organize_data import create_product_info_df_dict\n",
    "dr_potential_files = ['DR RPM Inputs_071420.xlsx','DR RPM Inputs_021621_newaMWbins.xlsx']\n",
    "dr_product_dict = create_product_info_df_dict(dr_potential_files, dr_name)"
   ]
  },
  {
   "cell_type": "code",
   "execution_count": 10,
   "id": "9fd94f71",
   "metadata": {},
   "outputs": [
    {
     "data": {
      "text/html": [
       "<div>\n",
       "<style scoped>\n",
       "    .dataframe tbody tr th:only-of-type {\n",
       "        vertical-align: middle;\n",
       "    }\n",
       "\n",
       "    .dataframe tbody tr th {\n",
       "        vertical-align: top;\n",
       "    }\n",
       "\n",
       "    .dataframe thead th {\n",
       "        text-align: right;\n",
       "    }\n",
       "</style>\n",
       "<table border=\"1\" class=\"dataframe\">\n",
       "  <thead>\n",
       "    <tr style=\"text-align: right;\">\n",
       "      <th></th>\n",
       "      <th>Product</th>\n",
       "      <th>Bin</th>\n",
       "      <th>Seasonality</th>\n",
       "      <th>Shift or Shed?</th>\n",
       "    </tr>\n",
       "  </thead>\n",
       "  <tbody>\n",
       "    <tr>\n",
       "      <th>0</th>\n",
       "      <td>DVR</td>\n",
       "      <td>Bin 1</td>\n",
       "      <td>Year-round</td>\n",
       "      <td>Shed</td>\n",
       "    </tr>\n",
       "    <tr>\n",
       "      <th>1</th>\n",
       "      <td>ResTOU_shift</td>\n",
       "      <td>Bin 1</td>\n",
       "      <td>Year-round</td>\n",
       "      <td>Shift</td>\n",
       "    </tr>\n",
       "    <tr>\n",
       "      <th>2</th>\n",
       "      <td>ResTOU_shed</td>\n",
       "      <td>Bin 1</td>\n",
       "      <td>Year-round</td>\n",
       "      <td>Shed</td>\n",
       "    </tr>\n",
       "  </tbody>\n",
       "</table>\n",
       "</div>"
      ],
      "text/plain": [
       "        Product    Bin Seasonality Shift or Shed?\n",
       "0           DVR  Bin 1  Year-round           Shed\n",
       "1  ResTOU_shift  Bin 1  Year-round          Shift\n",
       "2   ResTOU_shed  Bin 1  Year-round           Shed"
      ]
     },
     "execution_count": 10,
     "metadata": {},
     "output_type": "execute_result"
    }
   ],
   "source": [
    "dr_product_dict['newbins']"
   ]
  },
  {
   "cell_type": "code",
   "execution_count": 11,
   "id": "f74c0cfc",
   "metadata": {},
   "outputs": [
    {
     "data": {
      "text/plain": [
       "['NRCurtailCom',\n",
       " 'NRCurtailInd',\n",
       " 'DVR',\n",
       " 'IndRTP',\n",
       " 'ResCPP',\n",
       " 'ResTOU',\n",
       " 'NRHeatSwchMed',\n",
       " 'NRHeatSwchSm',\n",
       " 'ComCPP',\n",
       " 'IndCPP',\n",
       " 'NRTstatSm',\n",
       " 'ResBYOT',\n",
       " 'ResHeatSwitch',\n",
       " 'ResERWHDLCSwch',\n",
       " 'ResERWHDLCGrd',\n",
       " 'ResEVSEDLCSwch',\n",
       " 'ResHPWHDLCSwch',\n",
       " 'ResHPWHDLCGrd']"
      ]
     },
     "execution_count": 11,
     "metadata": {},
     "output_type": "execute_result"
    }
   ],
   "source": [
    "dr_list = list(dr_hours.columns.values[3:])\n",
    "dr_list"
   ]
  },
  {
   "cell_type": "code",
   "execution_count": 5,
   "id": "edbcf499",
   "metadata": {},
   "outputs": [
    {
     "ename": "NameError",
     "evalue": "name 'sort_bins' is not defined",
     "output_type": "error",
     "traceback": [
      "\u001b[0;31m---------------------------------------------------------------------------\u001b[0m",
      "\u001b[0;31mNameError\u001b[0m                                 Traceback (most recent call last)",
      "\u001b[0;32m/var/folders/77/7yfflvs902s95j6rlhb5yn9c0000gn/T/ipykernel_7246/4048432418.py\u001b[0m in \u001b[0;36m<module>\u001b[0;34m\u001b[0m\n\u001b[0;32m----> 1\u001b[0;31m \u001b[0mout_dict\u001b[0m \u001b[0;34m=\u001b[0m \u001b[0msort_bins\u001b[0m\u001b[0;34m(\u001b[0m\u001b[0mdr_product_dict\u001b[0m\u001b[0;34m[\u001b[0m\u001b[0;34m'newbins'\u001b[0m\u001b[0;34m]\u001b[0m\u001b[0;34m,\u001b[0m\u001b[0mdr_list\u001b[0m\u001b[0;34m)\u001b[0m\u001b[0;34m\u001b[0m\u001b[0;34m\u001b[0m\u001b[0m\n\u001b[0m",
      "\u001b[0;31mNameError\u001b[0m: name 'sort_bins' is not defined"
     ]
    }
   ],
   "source": [
    "out_dict = sort_bins(dr_product_dict['newbins'],dr_list)"
   ]
  },
  {
   "cell_type": "code",
   "execution_count": 14,
   "id": "5654cb0e",
   "metadata": {},
   "outputs": [
    {
     "data": {
      "text/plain": [
       "{'Bin 2': ['NRCurtailCom',\n",
       "  'NRCurtailInd',\n",
       "  'ResTOU',\n",
       "  'NRHeatSwchMed',\n",
       "  'ResBYOT'],\n",
       " 'Bin 1': ['DVR', 'IndRTP', 'ResCPP', 'ComCPP', 'IndCPP'],\n",
       " 'Bin 3': ['NRHeatSwchSm',\n",
       "  'NRTstatSm',\n",
       "  'ResHeatSwitch',\n",
       "  'ResERWHDLCSwch',\n",
       "  'ResERWHDLCGrd'],\n",
       " 'Bin 4': ['ResEVSEDLCSwch', 'ResHPWHDLCSwch', 'ResHPWHDLCGrd']}"
      ]
     },
     "execution_count": 14,
     "metadata": {},
     "output_type": "execute_result"
    }
   ],
   "source": [
    "out_dict"
   ]
  },
  {
   "cell_type": "code",
   "execution_count": 27,
   "id": "bbee1d19",
   "metadata": {},
   "outputs": [
    {
     "data": {
      "text/html": [
       "<div>\n",
       "<style scoped>\n",
       "    .dataframe tbody tr th:only-of-type {\n",
       "        vertical-align: middle;\n",
       "    }\n",
       "\n",
       "    .dataframe tbody tr th {\n",
       "        vertical-align: top;\n",
       "    }\n",
       "\n",
       "    .dataframe thead th {\n",
       "        text-align: right;\n",
       "    }\n",
       "</style>\n",
       "<table border=\"1\" class=\"dataframe\">\n",
       "  <thead>\n",
       "    <tr style=\"text-align: right;\">\n",
       "      <th></th>\n",
       "      <th>Product</th>\n",
       "      <th>Bin</th>\n",
       "      <th>Seasonality</th>\n",
       "      <th>Shift or Shed?</th>\n",
       "    </tr>\n",
       "  </thead>\n",
       "  <tbody>\n",
       "    <tr>\n",
       "      <th>0</th>\n",
       "      <td>DVR</td>\n",
       "      <td>Bin 1</td>\n",
       "      <td>Year-round</td>\n",
       "      <td>Shed</td>\n",
       "    </tr>\n",
       "    <tr>\n",
       "      <th>1</th>\n",
       "      <td>ResTOU_shift</td>\n",
       "      <td>Bin 1</td>\n",
       "      <td>Year-round</td>\n",
       "      <td>Shift</td>\n",
       "    </tr>\n",
       "    <tr>\n",
       "      <th>2</th>\n",
       "      <td>ResTOU_shed</td>\n",
       "      <td>Bin 1</td>\n",
       "      <td>Year-round</td>\n",
       "      <td>Shed</td>\n",
       "    </tr>\n",
       "  </tbody>\n",
       "</table>\n",
       "</div>"
      ],
      "text/plain": [
       "        Product    Bin Seasonality Shift or Shed?\n",
       "0           DVR  Bin 1  Year-round           Shed\n",
       "1  ResTOU_shift  Bin 1  Year-round          Shift\n",
       "2   ResTOU_shed  Bin 1  Year-round           Shed"
      ]
     },
     "execution_count": 27,
     "metadata": {},
     "output_type": "execute_result"
    }
   ],
   "source": [
    "dr_product_info_df_dict = dr_product_dict.copy()\n",
    "drname = 'newbins'\n",
    "newrow = dr_product_info_df_dict[drname][dr_product_info_df_dict[drname]['Product'] == 'ResTOU'].copy()\n",
    "newrow = newrow.replace('ResTOU','ResTOU_shed')\n",
    "newrow = newrow.replace('Shift','Shed')\n",
    "dr_product_info_df_dict[drname] = dr_product_info_df_dict[drname].replace('ResTOU','ResTOU_shift')\n",
    "dr_product_info_df_dict[drname] = pd.concat([dr_product_info_df_dict[drname], newrow]).reset_index(drop=True)\n",
    "dr_product_info_df_dict[drname]"
   ]
  },
  {
   "cell_type": "code",
   "execution_count": 2,
   "id": "8ea0ed37",
   "metadata": {},
   "outputs": [
    {
     "name": "stdout",
     "output_type": "stream",
     "text": [
      "0     Year         DVR  ResTOU_shift  ResTOU_shed\n",
      "1   2022.0   96.830889     26.861499    26.861499\n",
      "2   2023.0  192.464879     53.311686    53.311686\n",
      "3   2024.0  289.864281     81.483611    81.483611\n",
      "4   2025.0  389.903688     82.700018    82.700018\n",
      "5   2026.0  481.322171     80.592329    80.592329\n",
      "6   2027.0  497.584014     84.972905    84.972905\n",
      "7   2028.0  495.783452     85.169229    85.169229\n",
      "8   2029.0  488.705780     82.826516    82.826516\n",
      "9   2030.0  486.317294     81.421903    81.421903\n",
      "10  2031.0  495.788063     83.836130    83.836130\n",
      "11  2032.0  509.196033     87.442579    87.442579\n",
      "12  2033.0  498.985448     84.345444    84.345444\n",
      "13  2034.0  513.313810     87.718064    87.718064\n",
      "14  2035.0  523.878986     90.572743    90.572743\n",
      "15  2036.0  522.976639     89.355872    89.355872\n",
      "16  2037.0  513.311708     86.315334    86.315334\n",
      "17  2038.0  523.952325     88.847332    88.847332\n",
      "18  2039.0  519.967850     86.782437    86.782437\n",
      "19  2040.0  532.966441     89.884120    89.884120\n",
      "20  2041.0  538.100205     90.225606    90.225606\n",
      "0     Year         DVR  ResTOU_shift  ResTOU_shed\n",
      "1   2022.0  100.929230     63.712778    63.712778\n",
      "2   2023.0  200.610903    126.449967   126.449967\n",
      "3   2024.0  302.132708    193.270944   193.270944\n",
      "4   2025.0  406.406256    196.156139   196.156139\n",
      "5   2026.0  501.694002    191.156912   191.156912\n",
      "6   2027.0  518.644123    201.547199   201.547199\n",
      "7   2028.0  516.767353    202.012859   202.012859\n",
      "8   2029.0  509.390120    196.456181   196.456181\n",
      "9   2030.0  506.900543    193.124580   193.124580\n",
      "10  2031.0  516.772159    198.850883   198.850883\n",
      "11  2032.0  530.747618    207.405017   207.405017\n",
      "12  2033.0  520.104873    200.058923   200.058923\n",
      "13  2034.0  535.039678    208.058440   208.058440\n",
      "14  2035.0  546.052023    214.829453   214.829453\n",
      "15  2036.0  545.111484    211.943156   211.943156\n",
      "16  2037.0  535.037488    204.731306   204.731306\n",
      "17  2038.0  546.128466    210.736951   210.736951\n",
      "18  2039.0  541.975349    205.839227   205.839227\n",
      "19  2040.0  555.524101    213.196107   213.196107\n",
      "20  2041.0  560.875150    214.006078   214.006078\n",
      "0     Year         DVR  ResTOU_shift  ResTOU_shed\n",
      "1   2022.0   96.830889     26.861499    26.861499\n",
      "2   2023.0  192.464879     53.311686    53.311686\n",
      "3   2024.0  289.864281     81.483611    81.483611\n",
      "4   2025.0  389.903688     82.700018    82.700018\n",
      "5   2026.0  481.322171     80.592329    80.592329\n",
      "6   2027.0  497.584014     84.972905    84.972905\n",
      "7   2028.0  495.783452     85.169229    85.169229\n",
      "8   2029.0  488.705780     82.826516    82.826516\n",
      "9   2030.0  486.317294     81.421903    81.421903\n",
      "10  2031.0  495.788063     83.836130    83.836130\n",
      "11  2032.0  509.196033     87.442579    87.442579\n",
      "12  2033.0  498.985448     84.345444    84.345444\n",
      "13  2034.0  513.313810     87.718064    87.718064\n",
      "14  2035.0  523.878986     90.572743    90.572743\n",
      "15  2036.0  522.976639     89.355872    89.355872\n",
      "16  2037.0  513.311708     86.315334    86.315334\n",
      "17  2038.0  523.952325     88.847332    88.847332\n",
      "18  2039.0  519.967850     86.782437    86.782437\n",
      "19  2040.0  532.966441     89.884120    89.884120\n",
      "20  2041.0  538.100205     90.225606    90.225606\n"
     ]
    }
   ],
   "source": [
    "from subcomp_a_organize_data import create_dr_potential_df_dict\n",
    "dr_potential_files = ['DR RPM Inputs_071420.xlsx','DR RPM Inputs_021621_newaMWbins.xlsx']\n",
    "dr_potential_df_dict = create_dr_potential_df_dict(dr_potential_files, dr_name, dr_seasons, [[0],['DVR','ResTOU']])\n",
    "drname = 'newbins'\n",
    "for season in dr_seasons[1]:\n",
    "    dict_key = drname + '_' + season\n",
    "    print(dr_potential_df_dict[dict_key])"
   ]
  },
  {
   "cell_type": "code",
   "execution_count": 17,
   "id": "4ddaa582",
   "metadata": {},
   "outputs": [
    {
     "data": {
      "text/plain": [
       "array([2022, 2023, 2024, 2025, 2026, 2027, 2028, 2029, 2030, 2031, 2032,\n",
       "       2033, 2034, 2035, 2036, 2037, 2038, 2039, 2040, 2041, 2042, 2043,\n",
       "       2044])"
      ]
     },
     "execution_count": 17,
     "metadata": {},
     "output_type": "execute_result"
    }
   ],
   "source": [
    "import numpy as np\n",
    "ys = 2022\n",
    "ye = 2044\n",
    "years = np.arange(ys,ye+1)\n",
    "years"
   ]
  },
  {
   "cell_type": "code",
   "execution_count": 18,
   "id": "cc3cb4f6",
   "metadata": {},
   "outputs": [
    {
     "data": {
      "text/plain": [
       "['Winter', 'Summer']"
      ]
     },
     "execution_count": 18,
     "metadata": {},
     "output_type": "execute_result"
    }
   ],
   "source": [
    "    seasons = [['Winter','Summer'],['Winter','Summer','Fall']]\n",
    "seasons[0]"
   ]
  },
  {
   "cell_type": "code",
   "execution_count": 1,
   "id": "865b29f4",
   "metadata": {},
   "outputs": [],
   "source": [
    "from subcomp_a_organize_data import subcomp_a_runall\n",
    "emissions_scenario_list = ['Baseline']  \n",
    "emissions_rates_files = ['AvoidedEmissionsRate' + x + '.xlsx' for x in emissions_scenario_list]\n",
    "EMISSIONS_YEAR = 2022 #year to show emissions rates for gen pub\n",
    "dr_name = ['oldbins','newbins']\n",
    "dr_hrs_files = ['DRHours_' + x + '.xlsx' for x in dr_name]\n",
    "\n",
    "# For each plan in dr_name, list the DR potential file,\n",
    "# seasons with DR hours, and the subset of products to include\n",
    "# (or [0] to include all products).\n",
    "dr_potential_files = ['DR RPM Inputs_071420.xlsx','DR RPM Inputs_021621_newaMWbins.xlsx']\n",
    "dr_seasons = [['Winter','Summer'],['Winter','Summer','Fall']]\n",
    "subset_products = [[0],['DVR','ResTOU']] "
   ]
  },
  {
   "cell_type": "code",
   "execution_count": 2,
   "id": "e4a4e1f3",
   "metadata": {},
   "outputs": [],
   "source": [
    "emissions_rates_df_out, dr_hours_df_dict_out, \\\n",
    "dr_potential_df_dict_out, dr_product_info_df_dict_out = \\\n",
    "        subcomp_a_runall(emissions_rates_files, emissions_scenario_list, \\\n",
    "                        dr_hrs_files, dr_name, dr_seasons, dr_potential_files, subset_products)"
   ]
  },
  {
   "cell_type": "code",
   "execution_count": 14,
   "id": "a08cca01",
   "metadata": {},
   "outputs": [],
   "source": [
    "%reload_ext autoreload\n",
    "%autoreload 2"
   ]
  },
  {
   "cell_type": "code",
   "execution_count": 46,
   "id": "7d71141a",
   "metadata": {},
   "outputs": [],
   "source": [
    "from subcomp_c_calculate_emissions import calc_yearly_avoided_emissions, make_barchart_dict"
   ]
  },
  {
   "cell_type": "code",
   "execution_count": 24,
   "id": "7de0e1c0",
   "metadata": {},
   "outputs": [],
   "source": [
    "emissions_impacts_dict = calc_yearly_avoided_emissions(emissions_rates_df_out, dr_hours_df_dict_out, \\\n",
    "    dr_potential_df_dict_out, dr_product_info_df_dict_out)"
   ]
  },
  {
   "cell_type": "code",
   "execution_count": 32,
   "id": "15323e3d",
   "metadata": {},
   "outputs": [],
   "source": [
    "import importlib"
   ]
  },
  {
   "cell_type": "code",
   "execution_count": 39,
   "id": "a04943f2",
   "metadata": {},
   "outputs": [
    {
     "data": {
      "text/plain": [
       "<module 'subcomp_c_calculate_emissions' from '/Users/jamesstadler/Documents/UW/Courses/CSE583/DR-Emissions-Project/Main/emissions_calculator/phase1_emissions_calculator/subcomp_c_calculate_emissions.py'>"
      ]
     },
     "execution_count": 39,
     "metadata": {},
     "output_type": "execute_result"
    }
   ],
   "source": [
    "importlib.reload(subcomp_c_calculate_emissions)"
   ]
  },
  {
   "cell_type": "code",
   "execution_count": 55,
   "id": "7fadbb48",
   "metadata": {},
   "outputs": [
    {
     "name": "stdout",
     "output_type": "stream",
     "text": [
      "          a    b    c    d    e\n",
      "Winter  1.0  2.0  3.0  4.0  5.0\n",
      "Summer  NaN  NaN  NaN  NaN  NaN\n",
      "          a    b    c    d    e\n",
      "Winter  1.0  2.0  3.0  4.0  5.0\n",
      "Summer  2.0  3.0  4.0  5.0  6.0\n"
     ]
    }
   ],
   "source": [
    "df = pd.DataFrame(data = [[1, 2, 3, 4, 5],[]], columns = ['a', 'b', 'c', 'd', 'e'], index=['Winter', 'Summer'])\n",
    "print(df)\n",
    "df.loc['Summer', ['a', 'b', 'c', 'd', 'e']]=[2, 3, 4, 5, 6]\n",
    "print(df)"
   ]
  },
  {
   "cell_type": "code",
   "execution_count": 79,
   "id": "64ff0d57",
   "metadata": {},
   "outputs": [
    {
     "data": {
      "text/html": [
       "<div>\n",
       "<style scoped>\n",
       "    .dataframe tbody tr th:only-of-type {\n",
       "        vertical-align: middle;\n",
       "    }\n",
       "\n",
       "    .dataframe tbody tr th {\n",
       "        vertical-align: top;\n",
       "    }\n",
       "\n",
       "    .dataframe thead th {\n",
       "        text-align: right;\n",
       "    }\n",
       "</style>\n",
       "<table border=\"1\" class=\"dataframe\">\n",
       "  <thead>\n",
       "    <tr style=\"text-align: right;\">\n",
       "      <th></th>\n",
       "      <th>DVR</th>\n",
       "      <th>IndRTP</th>\n",
       "      <th>ResCPP</th>\n",
       "      <th>ComCPP</th>\n",
       "      <th>IndCPP</th>\n",
       "      <th>NRIrrLg</th>\n",
       "      <th>NRIrrSmMed</th>\n",
       "    </tr>\n",
       "  </thead>\n",
       "  <tbody>\n",
       "    <tr>\n",
       "      <th>Winter</th>\n",
       "      <td>26715.691108</td>\n",
       "      <td>-37.822001</td>\n",
       "      <td>7640.793691</td>\n",
       "      <td>3284.040560</td>\n",
       "      <td>3097.388954</td>\n",
       "      <td>NaN</td>\n",
       "      <td>NaN</td>\n",
       "    </tr>\n",
       "    <tr>\n",
       "      <th>Summer</th>\n",
       "      <td>36503.707434</td>\n",
       "      <td>-139.817637</td>\n",
       "      <td>19519.125853</td>\n",
       "      <td>10161.968571</td>\n",
       "      <td>8775.271869</td>\n",
       "      <td>27718.930736</td>\n",
       "      <td>32668.739796</td>\n",
       "    </tr>\n",
       "  </tbody>\n",
       "</table>\n",
       "</div>"
      ],
      "text/plain": [
       "                 DVR      IndRTP        ResCPP        ComCPP       IndCPP  \\\n",
       "Winter  26715.691108  -37.822001   7640.793691   3284.040560  3097.388954   \n",
       "Summer  36503.707434 -139.817637  19519.125853  10161.968571  8775.271869   \n",
       "\n",
       "             NRIrrLg    NRIrrSmMed  \n",
       "Winter           NaN           NaN  \n",
       "Summer  27718.930736  32668.739796  "
      ]
     },
     "execution_count": 79,
     "metadata": {},
     "output_type": "execute_result"
    }
   ],
   "source": [
    "sum_dict = make_barchart_dict(emissions_impacts_dict)\n",
    "sum_dict['oldbins']['Bin_1']"
   ]
  },
  {
   "cell_type": "code",
   "execution_count": 18,
   "id": "c63ffb37",
   "metadata": {},
   "outputs": [],
   "source": [
    "import pandas as pd\n",
    "old_dict = {}\n",
    "old_dict[\"Bin_\"+\"Hello\"]=pd.DataFrame(data=[], index = ['Winter', 'Summer'])\n"
   ]
  },
  {
   "cell_type": "code",
   "execution_count": 30,
   "id": "b0f29733",
   "metadata": {},
   "outputs": [],
   "source": [
    "df = old_dict['Bin_Hello']"
   ]
  },
  {
   "cell_type": "code",
   "execution_count": 32,
   "id": "b3c57cf4",
   "metadata": {},
   "outputs": [
    {
     "ename": "ValueError",
     "evalue": "Length mismatch: Expected axis has 0 elements, new values have 3 elements",
     "output_type": "error",
     "traceback": [
      "\u001b[0;31m---------------------------------------------------------------------------\u001b[0m",
      "\u001b[0;31mValueError\u001b[0m                                Traceback (most recent call last)",
      "\u001b[0;32m/var/folders/77/7yfflvs902s95j6rlhb5yn9c0000gn/T/ipykernel_7644/1617368246.py\u001b[0m in \u001b[0;36m<module>\u001b[0;34m\u001b[0m\n\u001b[0;32m----> 1\u001b[0;31m \u001b[0mdf\u001b[0m\u001b[0;34m.\u001b[0m\u001b[0mcolumns\u001b[0m \u001b[0;34m=\u001b[0m \u001b[0;34m[\u001b[0m\u001b[0;34m'a'\u001b[0m\u001b[0;34m,\u001b[0m \u001b[0;34m'b'\u001b[0m\u001b[0;34m,\u001b[0m \u001b[0;34m'c'\u001b[0m\u001b[0;34m]\u001b[0m\u001b[0;34m\u001b[0m\u001b[0;34m\u001b[0m\u001b[0m\n\u001b[0m",
      "\u001b[0;32m/opt/miniconda3/lib/python3.9/site-packages/pandas/core/generic.py\u001b[0m in \u001b[0;36m__setattr__\u001b[0;34m(self, name, value)\u001b[0m\n\u001b[1;32m   5498\u001b[0m         \u001b[0;32mtry\u001b[0m\u001b[0;34m:\u001b[0m\u001b[0;34m\u001b[0m\u001b[0;34m\u001b[0m\u001b[0m\n\u001b[1;32m   5499\u001b[0m             \u001b[0mobject\u001b[0m\u001b[0;34m.\u001b[0m\u001b[0m__getattribute__\u001b[0m\u001b[0;34m(\u001b[0m\u001b[0mself\u001b[0m\u001b[0;34m,\u001b[0m \u001b[0mname\u001b[0m\u001b[0;34m)\u001b[0m\u001b[0;34m\u001b[0m\u001b[0;34m\u001b[0m\u001b[0m\n\u001b[0;32m-> 5500\u001b[0;31m             \u001b[0;32mreturn\u001b[0m \u001b[0mobject\u001b[0m\u001b[0;34m.\u001b[0m\u001b[0m__setattr__\u001b[0m\u001b[0;34m(\u001b[0m\u001b[0mself\u001b[0m\u001b[0;34m,\u001b[0m \u001b[0mname\u001b[0m\u001b[0;34m,\u001b[0m \u001b[0mvalue\u001b[0m\u001b[0;34m)\u001b[0m\u001b[0;34m\u001b[0m\u001b[0;34m\u001b[0m\u001b[0m\n\u001b[0m\u001b[1;32m   5501\u001b[0m         \u001b[0;32mexcept\u001b[0m \u001b[0mAttributeError\u001b[0m\u001b[0;34m:\u001b[0m\u001b[0;34m\u001b[0m\u001b[0;34m\u001b[0m\u001b[0m\n\u001b[1;32m   5502\u001b[0m             \u001b[0;32mpass\u001b[0m\u001b[0;34m\u001b[0m\u001b[0;34m\u001b[0m\u001b[0m\n",
      "\u001b[0;32m/opt/miniconda3/lib/python3.9/site-packages/pandas/_libs/properties.pyx\u001b[0m in \u001b[0;36mpandas._libs.properties.AxisProperty.__set__\u001b[0;34m()\u001b[0m\n",
      "\u001b[0;32m/opt/miniconda3/lib/python3.9/site-packages/pandas/core/generic.py\u001b[0m in \u001b[0;36m_set_axis\u001b[0;34m(self, axis, labels)\u001b[0m\n\u001b[1;32m    764\u001b[0m     \u001b[0;32mdef\u001b[0m \u001b[0m_set_axis\u001b[0m\u001b[0;34m(\u001b[0m\u001b[0mself\u001b[0m\u001b[0;34m,\u001b[0m \u001b[0maxis\u001b[0m\u001b[0;34m:\u001b[0m \u001b[0mint\u001b[0m\u001b[0;34m,\u001b[0m \u001b[0mlabels\u001b[0m\u001b[0;34m:\u001b[0m \u001b[0mIndex\u001b[0m\u001b[0;34m)\u001b[0m \u001b[0;34m->\u001b[0m \u001b[0;32mNone\u001b[0m\u001b[0;34m:\u001b[0m\u001b[0;34m\u001b[0m\u001b[0;34m\u001b[0m\u001b[0m\n\u001b[1;32m    765\u001b[0m         \u001b[0mlabels\u001b[0m \u001b[0;34m=\u001b[0m \u001b[0mensure_index\u001b[0m\u001b[0;34m(\u001b[0m\u001b[0mlabels\u001b[0m\u001b[0;34m)\u001b[0m\u001b[0;34m\u001b[0m\u001b[0;34m\u001b[0m\u001b[0m\n\u001b[0;32m--> 766\u001b[0;31m         \u001b[0mself\u001b[0m\u001b[0;34m.\u001b[0m\u001b[0m_mgr\u001b[0m\u001b[0;34m.\u001b[0m\u001b[0mset_axis\u001b[0m\u001b[0;34m(\u001b[0m\u001b[0maxis\u001b[0m\u001b[0;34m,\u001b[0m \u001b[0mlabels\u001b[0m\u001b[0;34m)\u001b[0m\u001b[0;34m\u001b[0m\u001b[0;34m\u001b[0m\u001b[0m\n\u001b[0m\u001b[1;32m    767\u001b[0m         \u001b[0mself\u001b[0m\u001b[0;34m.\u001b[0m\u001b[0m_clear_item_cache\u001b[0m\u001b[0;34m(\u001b[0m\u001b[0;34m)\u001b[0m\u001b[0;34m\u001b[0m\u001b[0;34m\u001b[0m\u001b[0m\n\u001b[1;32m    768\u001b[0m \u001b[0;34m\u001b[0m\u001b[0m\n",
      "\u001b[0;32m/opt/miniconda3/lib/python3.9/site-packages/pandas/core/internals/managers.py\u001b[0m in \u001b[0;36mset_axis\u001b[0;34m(self, axis, new_labels)\u001b[0m\n\u001b[1;32m    214\u001b[0m     \u001b[0;32mdef\u001b[0m \u001b[0mset_axis\u001b[0m\u001b[0;34m(\u001b[0m\u001b[0mself\u001b[0m\u001b[0;34m,\u001b[0m \u001b[0maxis\u001b[0m\u001b[0;34m:\u001b[0m \u001b[0mint\u001b[0m\u001b[0;34m,\u001b[0m \u001b[0mnew_labels\u001b[0m\u001b[0;34m:\u001b[0m \u001b[0mIndex\u001b[0m\u001b[0;34m)\u001b[0m \u001b[0;34m->\u001b[0m \u001b[0;32mNone\u001b[0m\u001b[0;34m:\u001b[0m\u001b[0;34m\u001b[0m\u001b[0;34m\u001b[0m\u001b[0m\n\u001b[1;32m    215\u001b[0m         \u001b[0;31m# Caller is responsible for ensuring we have an Index object.\u001b[0m\u001b[0;34m\u001b[0m\u001b[0;34m\u001b[0m\u001b[0;34m\u001b[0m\u001b[0m\n\u001b[0;32m--> 216\u001b[0;31m         \u001b[0mself\u001b[0m\u001b[0;34m.\u001b[0m\u001b[0m_validate_set_axis\u001b[0m\u001b[0;34m(\u001b[0m\u001b[0maxis\u001b[0m\u001b[0;34m,\u001b[0m \u001b[0mnew_labels\u001b[0m\u001b[0;34m)\u001b[0m\u001b[0;34m\u001b[0m\u001b[0;34m\u001b[0m\u001b[0m\n\u001b[0m\u001b[1;32m    217\u001b[0m         \u001b[0mself\u001b[0m\u001b[0;34m.\u001b[0m\u001b[0maxes\u001b[0m\u001b[0;34m[\u001b[0m\u001b[0maxis\u001b[0m\u001b[0;34m]\u001b[0m \u001b[0;34m=\u001b[0m \u001b[0mnew_labels\u001b[0m\u001b[0;34m\u001b[0m\u001b[0;34m\u001b[0m\u001b[0m\n\u001b[1;32m    218\u001b[0m \u001b[0;34m\u001b[0m\u001b[0m\n",
      "\u001b[0;32m/opt/miniconda3/lib/python3.9/site-packages/pandas/core/internals/base.py\u001b[0m in \u001b[0;36m_validate_set_axis\u001b[0;34m(self, axis, new_labels)\u001b[0m\n\u001b[1;32m     55\u001b[0m \u001b[0;34m\u001b[0m\u001b[0m\n\u001b[1;32m     56\u001b[0m         \u001b[0;32melif\u001b[0m \u001b[0mnew_len\u001b[0m \u001b[0;34m!=\u001b[0m \u001b[0mold_len\u001b[0m\u001b[0;34m:\u001b[0m\u001b[0;34m\u001b[0m\u001b[0;34m\u001b[0m\u001b[0m\n\u001b[0;32m---> 57\u001b[0;31m             raise ValueError(\n\u001b[0m\u001b[1;32m     58\u001b[0m                 \u001b[0;34mf\"Length mismatch: Expected axis has {old_len} elements, new \"\u001b[0m\u001b[0;34m\u001b[0m\u001b[0;34m\u001b[0m\u001b[0m\n\u001b[1;32m     59\u001b[0m                 \u001b[0;34mf\"values have {new_len} elements\"\u001b[0m\u001b[0;34m\u001b[0m\u001b[0;34m\u001b[0m\u001b[0m\n",
      "\u001b[0;31mValueError\u001b[0m: Length mismatch: Expected axis has 0 elements, new values have 3 elements"
     ]
    }
   ],
   "source": [
    "df.columns = ['a', 'b', 'c']"
   ]
  },
  {
   "cell_type": "code",
   "execution_count": 37,
   "id": "c6e8255d",
   "metadata": {},
   "outputs": [
    {
     "data": {
      "text/html": [
       "<div>\n",
       "<style scoped>\n",
       "    .dataframe tbody tr th:only-of-type {\n",
       "        vertical-align: middle;\n",
       "    }\n",
       "\n",
       "    .dataframe tbody tr th {\n",
       "        vertical-align: top;\n",
       "    }\n",
       "\n",
       "    .dataframe thead th {\n",
       "        text-align: right;\n",
       "    }\n",
       "</style>\n",
       "<table border=\"1\" class=\"dataframe\">\n",
       "  <thead>\n",
       "    <tr style=\"text-align: right;\">\n",
       "      <th></th>\n",
       "      <th>a</th>\n",
       "      <th>b</th>\n",
       "      <th>c</th>\n",
       "    </tr>\n",
       "  </thead>\n",
       "  <tbody>\n",
       "    <tr>\n",
       "      <th>0</th>\n",
       "      <td>1</td>\n",
       "      <td>2</td>\n",
       "      <td>3</td>\n",
       "    </tr>\n",
       "  </tbody>\n",
       "</table>\n",
       "</div>"
      ],
      "text/plain": [
       "   a  b  c\n",
       "0  1  2  3"
      ]
     },
     "execution_count": 37,
     "metadata": {},
     "output_type": "execute_result"
    }
   ],
   "source": [
    "import pandas as pd\n",
    "df = pd.DataFrame(data=[[1, 2, 3]], columns = ['a', 'b', 'c'])\n",
    "df"
   ]
  },
  {
   "cell_type": "code",
   "execution_count": 39,
   "id": "58dad353",
   "metadata": {},
   "outputs": [
    {
     "data": {
      "text/plain": [
       "a    1\n",
       "b    2\n",
       "Name: 0, dtype: int64"
      ]
     },
     "execution_count": 39,
     "metadata": {},
     "output_type": "execute_result"
    }
   ],
   "source": [
    "df.loc[0, ['a', 'b']]"
   ]
  },
  {
   "cell_type": "code",
   "execution_count": null,
   "id": "f983d640",
   "metadata": {},
   "outputs": [],
   "source": []
  }
 ],
 "metadata": {
  "kernelspec": {
   "display_name": "Python 3 (ipykernel)",
   "language": "python",
   "name": "python3"
  },
  "language_info": {
   "codemirror_mode": {
    "name": "ipython",
    "version": 3
   },
   "file_extension": ".py",
   "mimetype": "text/x-python",
   "name": "python",
   "nbconvert_exporter": "python",
   "pygments_lexer": "ipython3",
   "version": "3.9.5"
  }
 },
 "nbformat": 4,
 "nbformat_minor": 5
}
