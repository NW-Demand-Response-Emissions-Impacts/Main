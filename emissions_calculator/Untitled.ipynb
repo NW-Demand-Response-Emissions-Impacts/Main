{
 "cells": [
  {
   "cell_type": "code",
   "execution_count": 1,
   "id": "794637db",
   "metadata": {},
   "outputs": [],
   "source": [
    "import pandas as pd\n",
    "from subcomp_b_process_emissions_factors import run_all\n",
    "\n",
    "df_seasonal_ave_out, df_annual_ave_out, df_oneyear_seasonal_ave_out = run_all(2022)"
   ]
  },
  {
   "cell_type": "code",
   "execution_count": null,
   "id": "2d97ee83",
   "metadata": {},
   "outputs": [],
   "source": []
  }
 ],
 "metadata": {
  "kernelspec": {
   "display_name": "Python 3 (ipykernel)",
   "language": "python",
   "name": "python3"
  },
  "language_info": {
   "codemirror_mode": {
    "name": "ipython",
    "version": 3
   },
   "file_extension": ".py",
   "mimetype": "text/x-python",
   "name": "python",
   "nbconvert_exporter": "python",
   "pygments_lexer": "ipython3",
   "version": "3.9.5"
  }
 },
 "nbformat": 4,
 "nbformat_minor": 5
}
