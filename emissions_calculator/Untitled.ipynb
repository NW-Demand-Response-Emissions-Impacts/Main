{
 "cells": [
  {
   "cell_type": "code",
   "execution_count": null,
   "id": "d76030af",
   "metadata": {},
   "outputs": [],
   "source": [
    "import pandas as pd\n",
    "from subcomp_b_process_emissions_factors import run_all\n",
    "\n",
    "df_seasonal_ave_out, df_annual_ave_out, df_oneyear_seasonal_ave_out = run_all(2022)"
   ]
  },
  {
   "cell_type": "code",
   "execution_count": null,
   "id": "e5167e72",
   "metadata": {},
   "outputs": [],
   "source": [
    "from emissions_parameters import DIR_DATA_PROC\n",
    "\n",
    "DIR_OUT = DIR_DATA_PROC+'emissions_rates/'\n",
    "\n",
    "for plan_season_key in df_seasonal_ave_out.keys():\n",
    "    for scenario_key in df_seasonal_ave_out[plan_season_key].keys():\n",
    "        print(plan_season_key)\n",
    "        print(scenario_key)\n",
    "        fname = DIR_OUT+'DRdays_allyears_'+plan_season_key+'_'+scenario_key+'.csv'\n",
    "        df_seasonal_ave_out[plan_season_key][scenario_key].to_csv(fname,index=False)\n",
    "\n",
    "for plan_key in df_annual_ave_out.keys():\n",
    "    for scenario_key in df_annual_ave_out[plan_key].keys():\n",
    "        print(plan_key)\n",
    "        print(scenario_key)\n",
    "        fname = DIR_OUT+'DRdays_allyears_'+plan_key+'_Annual_'+scenario_key+'.csv'\n",
    "        df_annual_ave_out[plan_key][scenario_key].to_csv(fname,index=False)\n",
    "\n",
    "for season_key in df_oneyear_seasonal_ave_out.keys():\n",
    "    for scenario_key in df_oneyear_seasonal_ave_out[season_key].keys():\n",
    "        print(season_key)\n",
    "        print(scenario_key)\n",
    "        fname = DIR_OUT+'alldays_'+str(year)+'_'+season_key+'_'+scenario_key+'.csv'\n",
    "        df_oneyear_seasonal_ave_out[season_key][scenario_key].to_csv(fname,index=False)"
   ]
  },
  {
   "cell_type": "code",
   "execution_count": null,
   "id": "4cb37798",
   "metadata": {},
   "outputs": [],
   "source": [
    "from subcomp_a_organize_data import create_dr_hours_df_dict, create_dr_potential_df_dict, create_product_info_df_dict\n",
    "from subcomp_d_output_data import output_dr_potential, output_dr_hours\n",
    "\n",
    "dr_hours_dict = create_dr_hours_df_dict()\n",
    "dr_pot_dict = create_dr_potential_df_dict()\n",
    "product_info_dict = create_product_info_df_dict()\n",
    "\n",
    "output_dr_potential(dr_pot_dict,product_info_dict)\n",
    "output_dr_hours(dr_hours_dict)\n",
    "\n",
    "\n"
   ]
  },
  {
   "cell_type": "code",
   "execution_count": null,
   "id": "39802029",
   "metadata": {},
   "outputs": [],
   "source": []
  }
 ],
 "metadata": {
  "kernelspec": {
   "display_name": "Python 3 (ipykernel)",
   "language": "python",
   "name": "python3"
  },
  "language_info": {
   "codemirror_mode": {
    "name": "ipython",
    "version": 3
   },
   "file_extension": ".py",
   "mimetype": "text/x-python",
   "name": "python",
   "nbconvert_exporter": "python",
   "pygments_lexer": "ipython3",
   "version": "3.9.5"
  }
 },
 "nbformat": 4,
 "nbformat_minor": 5
}
