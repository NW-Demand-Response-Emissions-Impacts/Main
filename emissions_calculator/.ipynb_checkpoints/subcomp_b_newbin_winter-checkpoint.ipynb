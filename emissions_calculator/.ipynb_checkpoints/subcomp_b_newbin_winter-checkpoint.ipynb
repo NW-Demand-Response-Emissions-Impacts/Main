{
 "cells": [
  {
   "cell_type": "code",
   "execution_count": 6,
   "metadata": {},
   "outputs": [],
   "source": [
    "def newbins_winter(data):\n",
    "    \n",
    "    \"Read file into dataframe\"\n",
    "    df_scenario = pd.read_excel(data,\n",
    "                            sheet_name = 'HourlyAvoidedEmissionsRate')\n",
    "    \n",
    "    \"Select needed columns\"\n",
    "    df_subscenario = df_scenario[['Report_Year',\n",
    "                                  'Report_Month',\n",
    "                                  'Report_Day',\n",
    "                                  'Report_Hour',\n",
    "                                  'Emissions Rate Estimate']]\n",
    "    \n",
    "    \"Define DR hours range\"\n",
    "    month_range_winter=[1,2,3]\n",
    "    day_range=[1,2,3,4,5,6,8,9,10,11,12,13,15,16,17,18,19,20,22,23,24,25,26,27]\n",
    "    hour_range=[18,19,20,21]\n",
    "    \n",
    "    \"Select days with DR implementation hours\"\n",
    "    df_DRrange_winter = df_subscenario[df_subscenario['Report_Month'].isin(month_range_winter)\n",
    "                            & df_subscenario['Report_Day'].isin(day_range)\n",
    "                            #& subscenario['Report_Hour'].isin(hour_range)\n",
    "                                  ]\n",
    "    \n",
    "    \"Compute daily average\"\n",
    "    df_winterhourlymean = df_DRrange_winter.groupby(['Report_Hour'])['Emissions Rate Estimate'].mean().reset_index()\n",
    "    \n",
    "    \"Add season column\"\n",
    "    df_winterhourlymean[\"Season\"]='winter'\n",
    "    \n",
    "    df_winterhourlymean.to_csv('../../input_data/AvoidedEmissionsRates/processed_data/newbins_wintermean.csv')\n",
    "    \n",
    "    "
   ]
  },
  {
   "cell_type": "code",
   "execution_count": 7,
   "metadata": {},
   "outputs": [],
   "source": [
    "import pandas as pd\n",
    "import plotly.express as px\n",
    "import numpy as np\n",
    "newbins_winter(\"../../input_data/AvoidedEmissionsRates/AvoidedEmissionsRateBaseline.xlsx\")"
   ]
  },
  {
   "cell_type": "code",
   "execution_count": null,
   "metadata": {},
   "outputs": [],
   "source": []
  }
 ],
 "metadata": {
  "kernelspec": {
   "display_name": "Python 3",
   "language": "python",
   "name": "python3"
  },
  "language_info": {
   "codemirror_mode": {
    "name": "ipython",
    "version": 3
   },
   "file_extension": ".py",
   "mimetype": "text/x-python",
   "name": "python",
   "nbconvert_exporter": "python",
   "pygments_lexer": "ipython3",
   "version": "3.7.3"
  }
 },
 "nbformat": 4,
 "nbformat_minor": 2
}
